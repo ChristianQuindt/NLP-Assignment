{
 "cells": [
  {
   "cell_type": "markdown",
   "metadata": {},
   "source": [
    "# Evaluation of the different approaches to Naive Bayes"
   ]
  },
  {
   "cell_type": "markdown",
   "metadata": {},
   "source": [
    "## Imports"
   ]
  },
  {
   "cell_type": "code",
   "execution_count": 2,
   "metadata": {},
   "outputs": [],
   "source": [
    "# read files\n",
    "import pickle\n",
    "\n",
    "# preprocessing, math\n",
    "import numpy as np\n",
    "import pandas as pd\n",
    "from sklearn.preprocessing import LabelEncoder\n",
    "from nltk.corpus import stopwords\n",
    "from nltk import ngrams\n",
    "from sklearn.model_selection import train_test_split\n",
    "\n",
    "# evaluation\n",
    "from sklearn.feature_extraction.text import TfidfTransformer\n",
    "from sklearn.feature_extraction.text import CountVectorizer\n",
    "from sklearn.metrics import accuracy_score\n",
    "from sklearn.utils import class_weight"
   ]
  },
  {
   "cell_type": "markdown",
   "metadata": {},
   "source": [
    "## Load results of the different approaches"
   ]
  },
  {
   "cell_type": "code",
   "execution_count": 5,
   "metadata": {},
   "outputs": [],
   "source": [
    "pathToDataFiles = './datafiles/'\n",
    "dataset = 'True.csv' # Fake.csv\n",
    "n = 2\n",
    "\n",
    "df_results_occ = pd.read_csv(pathToDataFiles + 'naive-bayes-occurences-results-' + dataset, sep='\\t')\n",
    "df_results_ng = pd.read_csv(pathToDataFiles + 'naive-bayes-N-Grams-' + str(n) + '-results-' + dataset, sep='\\t')"
   ]
  },
  {
   "cell_type": "markdown",
   "metadata": {},
   "source": [
    "## Evaluate the predictions"
   ]
  },
  {
   "cell_type": "markdown",
   "metadata": {},
   "source": [
    "Normal Accuracy"
   ]
  },
  {
   "cell_type": "code",
   "execution_count": 7,
   "metadata": {},
   "outputs": [
    {
     "name": "stdout",
     "output_type": "stream",
     "text": [
      "baseline accuracy of always predicting the most common class: 0.5092038145930361\n",
      "accuracy for NB with occurences count: 0.8298957640275005\n",
      "accuracy for NB with N-Grams of 2 count: 0.8582834331337326\n"
     ]
    }
   ],
   "source": [
    "counts = pd.Series(df_results_occ.label == 0).value_counts() # always guess the most common class\n",
    "acc = counts[1]/counts.sum()    # (TP + TN) / ALL\n",
    "print('baseline accuracy of always predicting the most common class:', acc)\n",
    "\n",
    "counts = df_results_occ.TPTN.value_counts()\n",
    "acc = counts[1]/counts.sum()\n",
    "print('accuracy for NB with occurences count:', acc)\n",
    "\n",
    "counts = df_results_ng.TPTN.value_counts()\n",
    "acc = counts[1]/counts.sum()\n",
    "print('accuracy for NB with N-Grams of ' + str(n) + ' count:', acc)"
   ]
  },
  {
   "cell_type": "markdown",
   "metadata": {},
   "source": [
    "Weighted Accuracy"
   ]
  },
  {
   "cell_type": "code",
   "execution_count": 10,
   "metadata": {},
   "outputs": [
    {
     "name": "stdout",
     "output_type": "stream",
     "text": [
      "baseline_weighted_accuracy=0.500\n",
      "NB with word occurences weighted accuracy=0.831\n",
      "NB with N-Grams of 2 weighted accuracy=0.856\n"
     ]
    }
   ],
   "source": [
    "from sklearn.metrics import balanced_accuracy_score\n",
    "\n",
    "# baseline, just guess one class all the time\n",
    "baseline_weighted_accuracy = balanced_accuracy_score(df_results_occ.label, [0 for l in df_results_occ.label])\n",
    "\n",
    "# Naive Bayes with count of word occurences\n",
    "occ_weighted_accuracy = balanced_accuracy_score(df_results_occ.label, df_results_occ.prediction)                                           \n",
    "\n",
    "# Naive Bayes with N-grams\n",
    "ng_weighted_accuracy = balanced_accuracy_score(df_results_ng.label, df_results_ng.prediction)\n",
    "\n",
    "\n",
    "print('baseline_weighted_accuracy=%.3f' %baseline_weighted_accuracy)\n",
    "print('NB with word occurences weighted accuracy=%.3f' %occ_weighted_accuracy)\n",
    "print('NB with N-Grams of ' + str(n) + ' weighted accuracy=%.3f' %ng_weighted_accuracy)"
   ]
  }
 ],
 "metadata": {
  "kernelspec": {
   "display_name": "Python 3.9.7 ('Jupyter')",
   "language": "python",
   "name": "python3"
  },
  "language_info": {
   "codemirror_mode": {
    "name": "ipython",
    "version": 3
   },
   "file_extension": ".py",
   "mimetype": "text/x-python",
   "name": "python",
   "nbconvert_exporter": "python",
   "pygments_lexer": "ipython3",
   "version": "3.9.7"
  },
  "orig_nbformat": 4,
  "vscode": {
   "interpreter": {
    "hash": "dd17a11ea7543847da29bd4e1a3a09b21faff0b9e29eed5ea605d70fe73d28e0"
   }
  }
 },
 "nbformat": 4,
 "nbformat_minor": 2
}
